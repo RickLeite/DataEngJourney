{
 "cells": [
  {
   "cell_type": "code",
   "execution_count": 1,
   "metadata": {},
   "outputs": [],
   "source": [
    "from pyspark.sql import SparkSession"
   ]
  },
  {
   "cell_type": "code",
   "execution_count": 2,
   "metadata": {},
   "outputs": [
    {
     "name": "stdout",
     "output_type": "stream",
     "text": [
      "23/05/09 12:21:53 WARN Utils: Your hostname, wedivv-H110M-S2V resolves to a loopback address: 127.0.1.1; using 192.168.1.44 instead (on interface wlp5s0)\n",
      "23/05/09 12:21:53 WARN Utils: Set SPARK_LOCAL_IP if you need to bind to another address\n"
     ]
    },
    {
     "name": "stderr",
     "output_type": "stream",
     "text": [
      "Setting default log level to \"WARN\".\n",
      "To adjust logging level use sc.setLogLevel(newLevel). For SparkR, use setLogLevel(newLevel).\n"
     ]
    },
    {
     "name": "stdout",
     "output_type": "stream",
     "text": [
      "23/05/09 12:21:54 WARN NativeCodeLoader: Unable to load native-hadoop library for your platform... using builtin-java classes where applicable\n",
      "23/05/09 12:21:55 WARN Utils: Service 'SparkUI' could not bind on port 4040. Attempting port 4041.\n"
     ]
    }
   ],
   "source": [
    "spark = (SparkSession\n",
    "         .builder\n",
    "         .appName(\"Schema on Json DDL\")\n",
    "         .getOrCreate())"
   ]
  },
  {
   "cell_type": "code",
   "execution_count": 22,
   "metadata": {},
   "outputs": [
    {
     "name": "stdout",
     "output_type": "stream",
     "text": [
      "+------------------+----------+-----+---+---------+--------------+--------------------+\n",
      "|         campaigns|first_name| hits| id|last_name|published_date|                 url|\n",
      "+------------------+----------+-----+---+---------+--------------+--------------------+\n",
      "| [google, twitter]|      John|10000|  1|      Doe|    2022-01-01|https://tinyurl.c...|\n",
      "|[google, facebook]|      Jane|20000|  2|      Doe|    2022-01-02|https://tinyurl.c...|\n",
      "+------------------+----------+-----+---+---------+--------------+--------------------+\n",
      "only showing top 2 rows\n",
      "\n",
      "root\n",
      " |-- campaigns: array (nullable = true)\n",
      " |    |-- element: string (containsNull = true)\n",
      " |-- first_name: string (nullable = true)\n",
      " |-- hits: long (nullable = true)\n",
      " |-- id: long (nullable = true)\n",
      " |-- last_name: string (nullable = true)\n",
      " |-- published_date: string (nullable = true)\n",
      " |-- url: string (nullable = true)\n",
      "\n"
     ]
    }
   ],
   "source": [
    "dataJSON = spark.read.json(\"./data/2-BlogData.json\", multiLine=True)\n",
    "dataJSON.show(2)\n",
    "dataJSON.printSchema()"
   ]
  },
  {
   "cell_type": "code",
   "execution_count": 21,
   "metadata": {},
   "outputs": [
    {
     "data": {
      "text/plain": [
       "['campaigns', 'first_name', 'hits', 'id', 'last_name', 'published_date', 'url']"
      ]
     },
     "execution_count": 21,
     "metadata": {},
     "output_type": "execute_result"
    }
   ],
   "source": [
    "dataJSON.columns"
   ]
  },
  {
   "attachments": {},
   "cell_type": "markdown",
   "metadata": {},
   "source": [
    "ordening and defining schema"
   ]
  },
  {
   "cell_type": "code",
   "execution_count": 25,
   "metadata": {},
   "outputs": [],
   "source": [
    "schema = \"\"\"\n",
    "id INT, `first_name` STRING,\n",
    "`last_name` STRING, url STRING,\n",
    "`published_date` STRING, hits INT,\n",
    "campaigns ARRAY<STRING>\n",
    "\"\"\""
   ]
  },
  {
   "cell_type": "code",
   "execution_count": 26,
   "metadata": {},
   "outputs": [
    {
     "name": "stdout",
     "output_type": "stream",
     "text": [
      "+---+----------+---------+----------------------------------+--------------+-----+---------------------------+\n",
      "|id |first_name|last_name|url                               |published_date|hits |campaigns                  |\n",
      "+---+----------+---------+----------------------------------+--------------+-----+---------------------------+\n",
      "|1  |John      |Doe      |https://tinyurl.com/john-doe      |2022-01-01    |10000|[google, twitter]          |\n",
      "|2  |Jane      |Doe      |https://tinyurl.com/jane-doe      |2022-01-02    |20000|[google, facebook]         |\n",
      "|3  |Bob       |Smith    |https://tinyurl.com/bob-smith     |2022-01-03    |15000|[twitter, linkedin]        |\n",
      "|4  |Alice     |Johnson  |https://tinyurl.com/alice-johnson |2022-01-04    |12000|[facebook]                 |\n",
      "|5  |Charlie   |Garcia   |https://tinyurl.com/charlie-garcia|2022-01-05    |18000|[google, twitter, linkedin]|\n",
      "+---+----------+---------+----------------------------------+--------------+-----+---------------------------+\n",
      "\n"
     ]
    }
   ],
   "source": [
    "df = spark.read.schema(schema).option(\"multiline\",\"true\").json(\"./data/2-BlogData.json\")\n",
    "df.show(truncate=False)"
   ]
  },
  {
   "cell_type": "code",
   "execution_count": 19,
   "metadata": {},
   "outputs": [
    {
     "name": "stdout",
     "output_type": "stream",
     "text": [
      "root\n",
      " |-- id: integer (nullable = true)\n",
      " |-- first_name: string (nullable = true)\n",
      " |-- last_name: string (nullable = true)\n",
      " |-- url: string (nullable = true)\n",
      " |-- published_date: string (nullable = true)\n",
      " |-- hits: integer (nullable = true)\n",
      " |-- campaigns: array (nullable = true)\n",
      " |    |-- element: string (containsNull = true)\n",
      "\n"
     ]
    }
   ],
   "source": [
    "df.printSchema()"
   ]
  }
 ],
 "metadata": {
  "kernelspec": {
   "display_name": "Python 3",
   "language": "python",
   "name": "python3"
  },
  "language_info": {
   "codemirror_mode": {
    "name": "ipython",
    "version": 3
   },
   "file_extension": ".py",
   "mimetype": "text/x-python",
   "name": "python",
   "nbconvert_exporter": "python",
   "pygments_lexer": "ipython3",
   "version": "3.10.6"
  },
  "orig_nbformat": 4
 },
 "nbformat": 4,
 "nbformat_minor": 2
}
