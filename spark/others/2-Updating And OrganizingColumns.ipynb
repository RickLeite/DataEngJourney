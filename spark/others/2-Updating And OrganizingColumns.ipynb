{
 "cells": [
  {
   "cell_type": "code",
   "execution_count": 1,
   "metadata": {},
   "outputs": [],
   "source": [
    "from pyspark.sql import SparkSession"
   ]
  },
  {
   "cell_type": "code",
   "execution_count": 2,
   "metadata": {},
   "outputs": [
    {
     "name": "stderr",
     "output_type": "stream",
     "text": [
      "23/05/13 11:37:10 WARN Utils: Your hostname, wedivv-H110M-S2V resolves to a loopback address: 127.0.1.1; using 192.168.1.44 instead (on interface wlp5s0)\n",
      "23/05/13 11:37:10 WARN Utils: Set SPARK_LOCAL_IP if you need to bind to another address\n",
      "Setting default log level to \"WARN\".\n",
      "To adjust logging level use sc.setLogLevel(newLevel). For SparkR, use setLogLevel(newLevel).\n",
      "23/05/13 11:37:10 WARN NativeCodeLoader: Unable to load native-hadoop library for your platform... using builtin-java classes where applicable\n",
      "23/05/13 11:37:11 WARN Utils: Service 'SparkUI' could not bind on port 4040. Attempting port 4041.\n"
     ]
    }
   ],
   "source": [
    "spark = (\n",
    "    SparkSession\n",
    "    .builder\n",
    "    .appName(\"Intersting ways to organize the DF when updating column (like converting Data)\")\n",
    "    .getOrCreate()\n",
    ")"
   ]
  },
  {
   "cell_type": "code",
   "execution_count": 3,
   "metadata": {},
   "outputs": [],
   "source": [
    "csvFile = (\"../LearningSpark/data/7-departuredelays.csv\")\n",
    "schema = \"date STRING, delay INT, distance INT, origin STRING, destination STRING\"\n",
    "df = (spark.read\n",
    "    .schema(schema)\n",
    "    .format(\"csv\")\n",
    "    .option(\"inferSchema\", \"true\")\n",
    "    .option(\"header\", \"true\")\n",
    "    .load(csvFile))"
   ]
  },
  {
   "cell_type": "code",
   "execution_count": 4,
   "metadata": {},
   "outputs": [
    {
     "name": "stdout",
     "output_type": "stream",
     "text": [
      "+--------+-----+--------+------+-----------+\n",
      "|    date|delay|distance|origin|destination|\n",
      "+--------+-----+--------+------+-----------+\n",
      "|01011245|    6|     602|   ABE|        ATL|\n",
      "|01020600|   -8|     369|   ABE|        DTW|\n",
      "|01021245|   -2|     602|   ABE|        ATL|\n",
      "+--------+-----+--------+------+-----------+\n",
      "only showing top 3 rows\n",
      "\n"
     ]
    }
   ],
   "source": [
    "df.show(3)"
   ]
  },
  {
   "cell_type": "code",
   "execution_count": 5,
   "metadata": {},
   "outputs": [],
   "source": [
    "from pyspark.sql.functions import date_format, from_unixtime, unix_timestamp, to_timestamp"
   ]
  },
  {
   "cell_type": "code",
   "execution_count": 6,
   "metadata": {},
   "outputs": [
    {
     "name": "stdout",
     "output_type": "stream",
     "text": [
      "+-----------+-----+--------+------+-----------+\n",
      "|       date|delay|distance|origin|destination|\n",
      "+-----------+-----+--------+------+-----------+\n",
      "|01-01 12:45|    6|     602|   ABE|        ATL|\n",
      "|01-02 06:00|   -8|     369|   ABE|        DTW|\n",
      "|01-02 12:45|   -2|     602|   ABE|        ATL|\n",
      "+-----------+-----+--------+------+-----------+\n",
      "only showing top 3 rows\n",
      "\n"
     ]
    }
   ],
   "source": [
    "df_one = (\n",
    "    df.select(\n",
    "        date_format(\n",
    "            from_unixtime(\n",
    "            unix_timestamp('date', 'MMddHHmm')), 'MM-dd HH:mm').alias('date'), \n",
    "    *df.columns).drop(df.date)\n",
    ")\n",
    "df_one.show(3)\n"
   ]
  },
  {
   "cell_type": "code",
   "execution_count": null,
   "metadata": {},
   "outputs": [],
   "source": [
    "df_one_alternative = (\n",
    "    df.select(\n",
    "        date_format(\n",
    "            to_timestamp('date', 'MMddHHmm'), 'MM-dd HH:mm').alias('date'),\n",
    "    *df.columns).drop(df.date)\n",
    "    )\n",
    ")\n",
    "df_one_alternative.show(3)\n",
    "df_one_alternative.printSchema()"
   ]
  },
  {
   "cell_type": "code",
   "execution_count": 7,
   "metadata": {},
   "outputs": [
    {
     "name": "stdout",
     "output_type": "stream",
     "text": [
      "+-----------+-----+--------+------+-----------+\n",
      "|       date|delay|distance|origin|destination|\n",
      "+-----------+-----+--------+------+-----------+\n",
      "|01-01 12:45|    6|     602|   ABE|        ATL|\n",
      "|01-02 06:00|   -8|     369|   ABE|        DTW|\n",
      "|01-02 12:45|   -2|     602|   ABE|        ATL|\n",
      "+-----------+-----+--------+------+-----------+\n",
      "only showing top 3 rows\n",
      "\n"
     ]
    }
   ],
   "source": [
    "df_two = (\n",
    "    df.select(\n",
    "        date_format(\n",
    "            from_unixtime(\n",
    "            unix_timestamp('date', 'MMddHHmm')), 'MM-dd HH:mm').alias('date'), \n",
    "        *[col for col in df.columns if col != 'date']\n",
    "    )\n",
    ")\n",
    "\n",
    "df_two.show(3)\n"
   ]
  },
  {
   "cell_type": "code",
   "execution_count": 8,
   "metadata": {},
   "outputs": [
    {
     "name": "stdout",
     "output_type": "stream",
     "text": [
      "+-----------+-----+--------+------+-----------+\n",
      "|       date|delay|distance|origin|destination|\n",
      "+-----------+-----+--------+------+-----------+\n",
      "|01-01 12:45|    6|     602|   ABE|        ATL|\n",
      "|01-02 06:00|   -8|     369|   ABE|        DTW|\n",
      "|01-02 12:45|   -2|     602|   ABE|        ATL|\n",
      "+-----------+-----+--------+------+-----------+\n",
      "only showing top 3 rows\n",
      "\n"
     ]
    }
   ],
   "source": [
    "df_three = (\n",
    "    df.withColumn(\"new_date\",\n",
    "        date_format( from_unixtime(\n",
    "        unix_timestamp(\"date\", 'MMddHHmm')), 'MM-dd HH:mm'))\n",
    "    .drop('date')\n",
    "    .withColumnRenamed(\"new_date\", \"date\")\n",
    "    .select(*df.columns)\n",
    ")\n",
    "\n",
    "df_three.show(3)\n"
   ]
  },
  {
   "cell_type": "code",
   "execution_count": 9,
   "metadata": {},
   "outputs": [
    {
     "name": "stdout",
     "output_type": "stream",
     "text": [
      "+-----------+-----+--------+------+-----------+\n",
      "|       date|delay|distance|origin|destination|\n",
      "+-----------+-----+--------+------+-----------+\n",
      "|01-01 12:45|    6|     602|   ABE|        ATL|\n",
      "|01-02 06:00|   -8|     369|   ABE|        DTW|\n",
      "|01-02 12:45|   -2|     602|   ABE|        ATL|\n",
      "+-----------+-----+--------+------+-----------+\n",
      "only showing top 3 rows\n",
      "\n"
     ]
    }
   ],
   "source": [
    "df_four = (\n",
    "    df.select(\n",
    "        date_format( \n",
    "            from_unixtime(\n",
    "            unix_timestamp(\"date\", 'MMddHHmm')), 'MM-dd HH:mm').alias(\"date\"),\n",
    "        \"delay\", \"distance\", \"origin\", \"destination\"\n",
    "        )\n",
    ")\n",
    "\n",
    "df_four.show(3)\n"
   ]
  },
  {
   "cell_type": "code",
   "execution_count": 10,
   "metadata": {},
   "outputs": [
    {
     "name": "stdout",
     "output_type": "stream",
     "text": [
      "+-----------+-----+--------+------+-----------+\n",
      "|       date|delay|distance|origin|destination|\n",
      "+-----------+-----+--------+------+-----------+\n",
      "|01-01 12:45|    6|     602|   ABE|        ATL|\n",
      "|01-02 06:00|   -8|     369|   ABE|        DTW|\n",
      "|01-02 12:45|   -2|     602|   ABE|        ATL|\n",
      "+-----------+-----+--------+------+-----------+\n",
      "only showing top 3 rows\n",
      "\n"
     ]
    }
   ],
   "source": [
    "df_five = (\n",
    "    df.withColumn(\"new_date\",\n",
    "        date_format( from_unixtime(\n",
    "        unix_timestamp(\"date\", 'MMddHHmm')), 'MM-dd HH:mm'))\n",
    "    .drop('date')\n",
    "    .withColumnRenamed(\"new_date\", \"date\")\n",
    "    .select(\"date\", \"delay\", \"distance\", \"origin\", \"destination\")\n",
    ")\n",
    "\n",
    "df_five.show(3)\n"
   ]
  },
  {
   "cell_type": "code",
   "execution_count": 11,
   "metadata": {},
   "outputs": [
    {
     "data": {
      "text/plain": [
       "DataFrame[date: string, delay: int, distance: int, origin: string, destination: string]"
      ]
     },
     "execution_count": 11,
     "metadata": {},
     "output_type": "execute_result"
    }
   ],
   "source": [
    "df"
   ]
  }
 ],
 "metadata": {
  "kernelspec": {
   "display_name": "Python 3",
   "language": "python",
   "name": "python3"
  },
  "language_info": {
   "codemirror_mode": {
    "name": "ipython",
    "version": 3
   },
   "file_extension": ".py",
   "mimetype": "text/x-python",
   "name": "python",
   "nbconvert_exporter": "python",
   "pygments_lexer": "ipython3",
   "version": "3.10.6"
  },
  "orig_nbformat": 4
 },
 "nbformat": 4,
 "nbformat_minor": 2
}
