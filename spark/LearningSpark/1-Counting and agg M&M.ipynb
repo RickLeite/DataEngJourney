{
 "cells": [
  {
   "cell_type": "code",
   "execution_count": 3,
   "metadata": {},
   "outputs": [],
   "source": [
    "from pyspark.sql import SparkSession"
   ]
  },
  {
   "cell_type": "code",
   "execution_count": 4,
   "metadata": {},
   "outputs": [
    {
     "name": "stdout",
     "output_type": "stream",
     "text": [
      "23/05/07 19:09:24 WARN Utils: Your hostname, wedivv-H110M-S2V resolves to a loopback address: 127.0.1.1; using 192.168.1.44 instead (on interface wlp5s0)\n",
      "23/05/07 19:09:24 WARN Utils: Set SPARK_LOCAL_IP if you need to bind to another address\n"
     ]
    },
    {
     "name": "stderr",
     "output_type": "stream",
     "text": [
      "Setting default log level to \"WARN\".\n",
      "To adjust logging level use sc.setLogLevel(newLevel). For SparkR, use setLogLevel(newLevel).\n"
     ]
    },
    {
     "name": "stdout",
     "output_type": "stream",
     "text": [
      "23/05/07 19:09:25 WARN NativeCodeLoader: Unable to load native-hadoop library for your platform... using builtin-java classes where applicable\n"
     ]
    }
   ],
   "source": [
    "spark = (SparkSession\n",
    "         .builder\n",
    "         .appName(\"CountingMnMs\")\n",
    "         .getOrCreate())"
   ]
  },
  {
   "cell_type": "code",
   "execution_count": 37,
   "metadata": {},
   "outputs": [],
   "source": [
    "mnm_file = \"./data/1-mnm_dataset.csv\""
   ]
  },
  {
   "cell_type": "code",
   "execution_count": 38,
   "metadata": {},
   "outputs": [],
   "source": [
    "mnm_df = (spark.read.format(\"csv\")\n",
    "           .option(\"header\", \"true\")\n",
    "           .option(\"inferSchema\", \"true\")\n",
    "           .load(mnm_file))"
   ]
  },
  {
   "attachments": {},
   "cell_type": "markdown",
   "metadata": {},
   "source": [
    "Colors by State and Count"
   ]
  },
  {
   "cell_type": "code",
   "execution_count": 39,
   "metadata": {},
   "outputs": [
    {
     "name": "stdout",
     "output_type": "stream",
     "text": [
      "+-----+------+-----+\n",
      "|State|Color |Total|\n",
      "+-----+------+-----+\n",
      "|TX   |Orange|1749 |\n",
      "|NM   |Brown |1746 |\n",
      "|WY   |Orange|1737 |\n",
      "|UT   |Brown |1733 |\n",
      "|CA   |Orange|1732 |\n",
      "|CA   |Blue  |1731 |\n",
      "|AZ   |Yellow|1725 |\n",
      "|WY   |Red   |1721 |\n",
      "|CA   |Yellow|1709 |\n",
      "|WA   |Orange|1708 |\n",
      "|CA   |Red   |1707 |\n",
      "|OR   |Green |1706 |\n",
      "|NM   |Yellow|1705 |\n",
      "|TX   |Blue  |1699 |\n",
      "|WA   |Blue  |1696 |\n",
      "|AZ   |Brown |1696 |\n",
      "|AZ   |Blue  |1693 |\n",
      "|WY   |Yellow|1690 |\n",
      "|OR   |Brown |1690 |\n",
      "|OR   |Red   |1685 |\n",
      "|CO   |Yellow|1684 |\n",
      "|NM   |Red   |1682 |\n",
      "|UT   |Yellow|1681 |\n",
      "|UT   |Red   |1678 |\n",
      "|WY   |Blue  |1678 |\n",
      "|CO   |Green |1678 |\n",
      "|CO   |Blue  |1675 |\n",
      "|NV   |Blue  |1673 |\n",
      "|TX   |Yellow|1672 |\n",
      "|NV   |Yellow|1671 |\n",
      "|CO   |Red   |1671 |\n",
      "|NV   |Orange|1670 |\n",
      "|CA   |Green |1667 |\n",
      "|NV   |Green |1665 |\n",
      "|WA   |Green |1661 |\n",
      "|WA   |Red   |1656 |\n",
      "|OR   |Yellow|1656 |\n",
      "|WY   |Green |1655 |\n",
      "|NM   |Orange|1652 |\n",
      "|TX   |Green |1652 |\n",
      "|TX   |Brown |1650 |\n",
      "|WA   |Yellow|1647 |\n",
      "|CO   |Orange|1645 |\n",
      "|NV   |Red   |1644 |\n",
      "|UT   |Orange|1644 |\n",
      "|WA   |Brown |1643 |\n",
      "|OR   |Blue  |1635 |\n",
      "|OR   |Orange|1634 |\n",
      "|AZ   |Green |1633 |\n",
      "|AZ   |Orange|1627 |\n",
      "|AZ   |Red   |1621 |\n",
      "|CA   |Brown |1621 |\n",
      "|CO   |Brown |1611 |\n",
      "|NV   |Brown |1601 |\n",
      "|UT   |Blue  |1595 |\n",
      "|UT   |Green |1595 |\n",
      "|NM   |Blue  |1594 |\n",
      "|NM   |Green |1592 |\n",
      "|TX   |Red   |1592 |\n",
      "|WY   |Brown |1541 |\n",
      "+-----+------+-----+\n",
      "\n"
     ]
    }
   ],
   "source": [
    "from pyspark.sql.functions import count\n",
    "\n",
    "count_mnm_df = (mnm_df\n",
    "                .select(\"State\", \"Color\", \"Count\")\n",
    "                .groupBy(\"State\", \"Color\")\n",
    "                .agg(count(\"Count\").alias(\"Total\"))\n",
    "                .orderBy(\"Total\", ascending=False))\n",
    "\n",
    "    \n",
    "count_mnm_df.show(60, truncate=False)"
   ]
  },
  {
   "attachments": {},
   "cell_type": "markdown",
   "metadata": {},
   "source": [
    "Sum of Count by State and Color"
   ]
  },
  {
   "cell_type": "code",
   "execution_count": 40,
   "metadata": {},
   "outputs": [
    {
     "name": "stdout",
     "output_type": "stream",
     "text": [
      "+-----+------+-----+\n",
      "|State|Color |Total|\n",
      "+-----+------+-----+\n",
      "|WY   |Orange|99051|\n",
      "|AZ   |Yellow|96611|\n",
      "|NM   |Brown |96461|\n",
      "|CA   |Blue  |95905|\n",
      "|TX   |Orange|95768|\n",
      "|UT   |Brown |95757|\n",
      "|WY   |Red   |95751|\n",
      "|WA   |Blue  |95095|\n",
      "|CA   |Orange|94902|\n",
      "|OR   |Red   |94612|\n",
      "|CA   |Yellow|94592|\n",
      "|CO   |Yellow|94253|\n",
      "|WY   |Blue  |93891|\n",
      "|NM   |Yellow|93748|\n",
      "|OR   |Green |93538|\n",
      "|AZ   |Brown |93498|\n",
      "|CO   |Green |93219|\n",
      "|WA   |Orange|93128|\n",
      "|AZ   |Blue  |92997|\n",
      "|CA   |Red   |92916|\n",
      "|TX   |Blue  |92810|\n",
      "|CA   |Green |92744|\n",
      "|WY   |Green |92683|\n",
      "|NV   |Green |92634|\n",
      "|CO   |Blue  |92607|\n",
      "|WY   |Yellow|92301|\n",
      "|CO   |Red   |92234|\n",
      "|NM   |Orange|92181|\n",
      "|NM   |Red   |92164|\n",
      "|OR   |Brown |91988|\n",
      "|WA   |Brown |91692|\n",
      "|UT   |Red   |91639|\n",
      "|NV   |Blue  |91506|\n",
      "|UT   |Yellow|91462|\n",
      "|OR   |Yellow|91446|\n",
      "|TX   |Green |91243|\n",
      "|WA   |Green |91170|\n",
      "|NV   |Yellow|90752|\n",
      "|NV   |Orange|90719|\n",
      "|CO   |Orange|90713|\n",
      "|TX   |Red   |90488|\n",
      "|WA   |Yellow|90478|\n",
      "|NV   |Red   |90412|\n",
      "|UT   |Orange|90375|\n",
      "|AZ   |Green |89847|\n",
      "|OR   |Orange|89782|\n",
      "|OR   |Blue  |89689|\n",
      "|TX   |Yellow|89377|\n",
      "|WA   |Red   |89032|\n",
      "|NM   |Green |88739|\n",
      "|AZ   |Orange|88670|\n",
      "|TX   |Brown |88649|\n",
      "|AZ   |Red   |88569|\n",
      "|CO   |Brown |87978|\n",
      "|CA   |Brown |87817|\n",
      "|UT   |Green |87786|\n",
      "|NM   |Blue  |87061|\n",
      "|NV   |Brown |86938|\n",
      "|UT   |Blue  |86539|\n",
      "|WY   |Brown |83817|\n",
      "+-----+------+-----+\n",
      "\n"
     ]
    }
   ],
   "source": [
    "from pyspark.sql.functions import count\n",
    "\n",
    "count_mnm_df = (mnm_df\n",
    "                .select(\"State\", \"Color\", \"Count\")\n",
    "                .groupBy(\"State\", \"Color\")\n",
    "                .agg({\"Count\": \"sum\"})\n",
    "                .withColumnRenamed(\"sum(Count)\", \"Total\")\n",
    "                .orderBy(\"Total\", ascending=False))\n",
    "\n",
    "    \n",
    "count_mnm_df.show(60, False)"
   ]
  },
  {
   "attachments": {},
   "cell_type": "markdown",
   "metadata": {},
   "source": [
    "Find for Cali"
   ]
  },
  {
   "cell_type": "code",
   "execution_count": 47,
   "metadata": {},
   "outputs": [
    {
     "name": "stdout",
     "output_type": "stream",
     "text": [
      "+-----+------+-----+\n",
      "|State| Color|Total|\n",
      "+-----+------+-----+\n",
      "|   CA|Orange| 1732|\n",
      "|   CA|  Blue| 1731|\n",
      "|   CA|Yellow| 1709|\n",
      "|   CA|   Red| 1707|\n",
      "|   CA| Green| 1667|\n",
      "|   CA| Brown| 1621|\n",
      "+-----+------+-----+\n",
      "\n"
     ]
    }
   ],
   "source": [
    "ca_count_mnm_df = (mnm_df\n",
    ".select(\"State\", \"Color\", \"Count\")\n",
    ".where(mnm_df.State == \"CA\")\n",
    ".groupBy(\"State\", \"Color\")\n",
    ".agg(count(\"Count\").alias(\"Total\"))\n",
    ".orderBy(\"Total\", ascending=False)\n",
    ").show(60)"
   ]
  }
 ],
 "metadata": {
  "kernelspec": {
   "display_name": "Python 3",
   "language": "python",
   "name": "python3"
  },
  "language_info": {
   "codemirror_mode": {
    "name": "ipython",
    "version": 3
   },
   "file_extension": ".py",
   "mimetype": "text/x-python",
   "name": "python",
   "nbconvert_exporter": "python",
   "pygments_lexer": "ipython3",
   "version": "3.10.6"
  },
  "orig_nbformat": 4
 },
 "nbformat": 4,
 "nbformat_minor": 2
}
