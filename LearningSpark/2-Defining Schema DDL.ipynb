{
 "cells": [
  {
   "cell_type": "code",
   "execution_count": 1,
   "metadata": {},
   "outputs": [],
   "source": [
    "from pyspark.sql import SparkSession"
   ]
  },
  {
   "cell_type": "code",
   "execution_count": 2,
   "metadata": {},
   "outputs": [
    {
     "name": "stdout",
     "output_type": "stream",
     "text": [
      "23/05/09 09:01:01 WARN Utils: Your hostname, wedivv-H110M-S2V resolves to a loopback address: 127.0.1.1; using 192.168.1.44 instead (on interface wlp5s0)\n",
      "23/05/09 09:01:01 WARN Utils: Set SPARK_LOCAL_IP if you need to bind to another address\n"
     ]
    },
    {
     "name": "stderr",
     "output_type": "stream",
     "text": [
      "Setting default log level to \"WARN\".\n",
      "To adjust logging level use sc.setLogLevel(newLevel). For SparkR, use setLogLevel(newLevel).\n"
     ]
    },
    {
     "name": "stdout",
     "output_type": "stream",
     "text": [
      "23/05/09 09:01:01 WARN NativeCodeLoader: Unable to load native-hadoop library for your platform... using builtin-java classes where applicable\n"
     ]
    }
   ],
   "source": [
    "spark = (SparkSession\n",
    "         .builder\n",
    "         .appName(\"Defining Schema DDL\")\n",
    "         .getOrCreate())"
   ]
  },
  {
   "cell_type": "code",
   "execution_count": 4,
   "metadata": {},
   "outputs": [],
   "source": [
    "data = [\n",
    "    [1, \"Jules\", \"Damji\", \"https://tinyurl.1\", \"1/4/2016\", 4535, [\"twitter\",\"LinkedIn\"]],\n",
    "    [2, \"Brooke\",\"Wenig\", \"https://tinyurl.2\", \"5/5/2018\", 8908, [\"twitter\", \"LinkedIn\"]],\n",
    "    [3, \"Denny\", \"Lee\", \"https://tinyurl.3\", \"6/7/2019\", 7659, [\"web\",\"twitter\", \"FB\", \"LinkedIn\"]],\n",
    "    [4, \"Tathagata\", \"Das\", \"https://tinyurl.4\", \"5/12/2018\", 10568,[\"twitter\", \"FB\"]],\n",
    "    [5, \"Matei\",\"Zaharia\", \"https://tinyurl.5\", \"5/14/2014\", 40578, [\"web\", \"twitter\", \"FB\", \"LinkedIn\"]],\n",
    "    [6, \"Reynold\", \"Xin\", \"https://tinyurl.6\", \"3/2/2015\", 25568, [\"twitter\", \"LinkedIn\"]],\n",
    "    [7, \"Alice\", \"Smith\", \"https://tinyurl.7\", \"2/14/2020\", 7896, [\"twitter\", \"FB\"]],\n",
    "    [8, \"Bob\", \"Johnson\", \"https://tinyurl.8\", \"9/1/2017\", 6543, [\"web\", \"twitter\", \"LinkedIn\"]],\n",
    "    [9, \"Charlie\", \"Davis\", \"https://tinyurl.9\", \"4/23/2019\", 9876, [\"twitter\", \"LinkedIn\"]],\n",
    "    [10, \"Emily\", \"Garcia\", \"https://tinyurl.10\", \"7/12/2016\", 1234, [\"FB\"]],\n",
    "    [11, \"Frank\", \"Hernandez\", \"https://tinyurl.11\", \"10/31/2021\", 5678, [\"web\", \"twitter\", \"FB\", \"LinkedIn\"]],\n",
    "    [12, \"Grace\", \"Lopez\", \"https://tinyurl.12\", \"12/25/2018\", 4567, [\"twitter\"]],\n",
    "    [13, \"Henry\", \"Martin\", \"https://tinyurl.13\", \"3/17/2015\", 7890, [\"web\", \"FB\"]],\n",
    "    [14, \"Isabella\", \"Gonzalez\", \"https://tinyurl.14\", \"6/30/2017\", 2345, [\"FB\", \"LinkedIn\"]],\n",
    "    [15, \"Jack\", \"Perez\", \"https://tinyurl.15\", \"8/8/2020\", 6789, [\"web\", \"twitter\", \"LinkedIn\"]],\n",
    "    [16, \"Katie\", \"Rodriguez\", \"https://tinyurl.16\", \"11/11/2019\", 3456, [\"twitter\", \"LinkedIn\"]],\n",
    "]"
   ]
  },
  {
   "attachments": {},
   "cell_type": "markdown",
   "metadata": {},
   "source": [
    "Data Definition Language (DDL)"
   ]
  },
  {
   "cell_type": "code",
   "execution_count": 5,
   "metadata": {},
   "outputs": [],
   "source": [
    "schema = \"\"\"\n",
    "Id INT, `First Name` STRING,\n",
    "Last STRING, Url STRING,\n",
    "Published STRING, Hits INT,\n",
    "Campaigns ARRAY<STRING>\n",
    "\"\"\""
   ]
  },
  {
   "cell_type": "code",
   "execution_count": 6,
   "metadata": {},
   "outputs": [
    {
     "name": "stderr",
     "output_type": "stream",
     "text": [
      "                                                                                \r"
     ]
    },
    {
     "name": "stdout",
     "output_type": "stream",
     "text": [
      "+---+----------+---------+------------------+----------+-----+--------------------+\n",
      "| Id|First Name|     Last|               Url| Published| Hits|           Campaigns|\n",
      "+---+----------+---------+------------------+----------+-----+--------------------+\n",
      "|  1|     Jules|    Damji| https://tinyurl.1|  1/4/2016| 4535| [twitter, LinkedIn]|\n",
      "|  2|    Brooke|    Wenig| https://tinyurl.2|  5/5/2018| 8908| [twitter, LinkedIn]|\n",
      "|  3|     Denny|      Lee| https://tinyurl.3|  6/7/2019| 7659|[web, twitter, FB...|\n",
      "|  4| Tathagata|      Das| https://tinyurl.4| 5/12/2018|10568|       [twitter, FB]|\n",
      "|  5|     Matei|  Zaharia| https://tinyurl.5| 5/14/2014|40578|[web, twitter, FB...|\n",
      "|  6|   Reynold|      Xin| https://tinyurl.6|  3/2/2015|25568| [twitter, LinkedIn]|\n",
      "|  7|     Alice|    Smith| https://tinyurl.7| 2/14/2020| 7896|       [twitter, FB]|\n",
      "|  8|       Bob|  Johnson| https://tinyurl.8|  9/1/2017| 6543|[web, twitter, Li...|\n",
      "|  9|   Charlie|    Davis| https://tinyurl.9| 4/23/2019| 9876| [twitter, LinkedIn]|\n",
      "| 10|     Emily|   Garcia|https://tinyurl.10| 7/12/2016| 1234|                [FB]|\n",
      "| 11|     Frank|Hernandez|https://tinyurl.11|10/31/2021| 5678|[web, twitter, FB...|\n",
      "| 12|     Grace|    Lopez|https://tinyurl.12|12/25/2018| 4567|           [twitter]|\n",
      "| 13|     Henry|   Martin|https://tinyurl.13| 3/17/2015| 7890|           [web, FB]|\n",
      "| 14|  Isabella| Gonzalez|https://tinyurl.14| 6/30/2017| 2345|      [FB, LinkedIn]|\n",
      "| 15|      Jack|    Perez|https://tinyurl.15|  8/8/2020| 6789|[web, twitter, Li...|\n",
      "| 16|     Katie|Rodriguez|https://tinyurl.16|11/11/2019| 3456| [twitter, LinkedIn]|\n",
      "+---+----------+---------+------------------+----------+-----+--------------------+\n",
      "\n"
     ]
    }
   ],
   "source": [
    "blogs_df = spark.createDataFrame(data, schema)\n",
    "blogs_df.show()"
   ]
  },
  {
   "cell_type": "code",
   "execution_count": 7,
   "metadata": {},
   "outputs": [
    {
     "name": "stdout",
     "output_type": "stream",
     "text": [
      "root\n",
      " |-- Id: integer (nullable = true)\n",
      " |-- First Name: string (nullable = true)\n",
      " |-- Last: string (nullable = true)\n",
      " |-- Url: string (nullable = true)\n",
      " |-- Published: string (nullable = true)\n",
      " |-- Hits: integer (nullable = true)\n",
      " |-- Campaigns: array (nullable = true)\n",
      " |    |-- element: string (containsNull = true)\n",
      "\n"
     ]
    }
   ],
   "source": [
    "blogs_df.printSchema()"
   ]
  },
  {
   "cell_type": "code",
   "execution_count": 8,
   "metadata": {},
   "outputs": [
    {
     "data": {
      "text/plain": [
       "StructType([StructField('Id', IntegerType(), True), StructField('First Name', StringType(), True), StructField('Last', StringType(), True), StructField('Url', StringType(), True), StructField('Published', StringType(), True), StructField('Hits', IntegerType(), True), StructField('Campaigns', ArrayType(StringType(), True), True)])"
      ]
     },
     "execution_count": 8,
     "metadata": {},
     "output_type": "execute_result"
    }
   ],
   "source": [
    "blogs_df.schema"
   ]
  }
 ],
 "metadata": {
  "kernelspec": {
   "display_name": "Python 3",
   "language": "python",
   "name": "python3"
  },
  "language_info": {
   "codemirror_mode": {
    "name": "ipython",
    "version": 3
   },
   "file_extension": ".py",
   "mimetype": "text/x-python",
   "name": "python",
   "nbconvert_exporter": "python",
   "pygments_lexer": "ipython3",
   "version": "3.10.6"
  },
  "orig_nbformat": 4
 },
 "nbformat": 4,
 "nbformat_minor": 2
}
