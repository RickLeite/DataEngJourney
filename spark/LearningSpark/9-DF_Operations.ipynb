{
 "cells": [
  {
   "cell_type": "code",
   "execution_count": 1,
   "metadata": {},
   "outputs": [],
   "source": [
    "from pyspark.sql import SparkSession"
   ]
  },
  {
   "cell_type": "code",
   "execution_count": 2,
   "metadata": {},
   "outputs": [
    {
     "name": "stderr",
     "output_type": "stream",
     "text": [
      "23/05/21 00:10:41 WARN Utils: Your hostname, wedivv-H110M-S2V resolves to a loopback address: 127.0.1.1; using 192.168.1.44 instead (on interface wlp5s0)\n",
      "23/05/21 00:10:41 WARN Utils: Set SPARK_LOCAL_IP if you need to bind to another address\n",
      "Setting default log level to \"WARN\".\n",
      "To adjust logging level use sc.setLogLevel(newLevel). For SparkR, use setLogLevel(newLevel).\n",
      "23/05/21 00:10:41 WARN NativeCodeLoader: Unable to load native-hadoop library for your platform... using builtin-java classes where applicable\n"
     ]
    }
   ],
   "source": [
    "spark = (SparkSession\n",
    "         .builder\n",
    "         .appName(\"Dataframe Operations\")\n",
    "         .getOrCreate())\n"
   ]
  },
  {
   "cell_type": "code",
   "execution_count": 3,
   "metadata": {},
   "outputs": [],
   "source": [
    "delaysPath = (\"./data/7-departuredelays.csv\")\n",
    "airportsPath = (\"./data/7-airport-codes-na.txt\")"
   ]
  },
  {
   "cell_type": "code",
   "execution_count": 4,
   "metadata": {},
   "outputs": [
    {
     "name": "stdout",
     "output_type": "stream",
     "text": [
      "+----------+-----+-------+----+\n",
      "|      City|State|Country|IATA|\n",
      "+----------+-----+-------+----+\n",
      "|Abbotsford|   BC| Canada| YXX|\n",
      "|  Aberdeen|   SD|    USA| ABR|\n",
      "|   Abilene|   TX|    USA| ABI|\n",
      "|     Akron|   OH|    USA| CAK|\n",
      "|   Alamosa|   CO|    USA| ALS|\n",
      "+----------+-----+-------+----+\n",
      "only showing top 5 rows\n",
      "\n"
     ]
    }
   ],
   "source": [
    "airports = (spark\n",
    "          .read\n",
    "          .option(\"header\", True)\n",
    "          .option(\"Delimiter\", \"\\t\")\n",
    "          .csv(airportsPath))\n",
    "airports.show(5)\n",
    "\n",
    "airports.createOrReplaceTempView(\"airports_na\")"
   ]
  },
  {
   "cell_type": "code",
   "execution_count": 5,
   "metadata": {},
   "outputs": [],
   "source": [
    "from pyspark.sql.functions import *"
   ]
  },
  {
   "cell_type": "code",
   "execution_count": 6,
   "metadata": {},
   "outputs": [
    {
     "name": "stdout",
     "output_type": "stream",
     "text": [
      "+-----------+-----+--------+------+-----------+\n",
      "|       date|delay|distance|origin|destination|\n",
      "+-----------+-----+--------+------+-----------+\n",
      "|01-01 12:45|    6|     602|   ABE|        ATL|\n",
      "|01-02 06:00|   -8|     369|   ABE|        DTW|\n",
      "|01-02 12:45|   -2|     602|   ABE|        ATL|\n",
      "|01-02 06:05|   -4|     602|   ABE|        ATL|\n",
      "|01-03 12:45|   -4|     602|   ABE|        ATL|\n",
      "+-----------+-----+--------+------+-----------+\n",
      "only showing top 5 rows\n",
      "\n"
     ]
    }
   ],
   "source": [
    "delays = (spark\n",
    "            .read\n",
    "            .option(\"header\", True)\n",
    "            .csv(delaysPath)\n",
    "            .withColumn(\"delay\", expr(\"CAST(delay as INT) as delay\"))\n",
    "            .withColumn(\"distance\", expr(\"CAST(distance as INT) as distance\"))\n",
    "            .withColumn(\"date\", expr(\"date_format(from_unixtime(unix_timestamp(date, 'MMddHHmm')), 'MM-dd HH:mm') as date\"))\n",
    "            )\n",
    "delays.show(5)\n",
    "\n",
    "delays.createOrReplaceTempView(\"departureDelays\")"
   ]
  },
  {
   "cell_type": "code",
   "execution_count": 7,
   "metadata": {},
   "outputs": [
    {
     "name": "stdout",
     "output_type": "stream",
     "text": [
      "root\n",
      " |-- date: string (nullable = true)\n",
      " |-- delay: integer (nullable = true)\n",
      " |-- distance: integer (nullable = true)\n",
      " |-- origin: string (nullable = true)\n",
      " |-- destination: string (nullable = true)\n",
      "\n"
     ]
    }
   ],
   "source": [
    "delays.printSchema()"
   ]
  },
  {
   "cell_type": "code",
   "execution_count": 8,
   "metadata": {},
   "outputs": [],
   "source": [
    "foo = delays.filter(\n",
    "    expr(\"\"\"origin == 'SEA' AND destination == 'SFO' AND\n",
    "    date like '01-01 0%' AND delay > 0\"\"\"))\n",
    "foo.createOrReplaceTempView(\"foo\")"
   ]
  },
  {
   "cell_type": "code",
   "execution_count": 9,
   "metadata": {},
   "outputs": [
    {
     "name": "stderr",
     "output_type": "stream",
     "text": [
      "[Stage 5:===================>                                       (1 + 2) / 3]\r"
     ]
    },
    {
     "name": "stdout",
     "output_type": "stream",
     "text": [
      "+-----------+-----+--------+------+-----------+\n",
      "|       date|delay|distance|origin|destination|\n",
      "+-----------+-----+--------+------+-----------+\n",
      "|01-01 07:10|   31|     590|   SEA|        SFO|\n",
      "|01-01 09:55|  104|     590|   SEA|        SFO|\n",
      "|01-01 07:30|    5|     590|   SEA|        SFO|\n",
      "+-----------+-----+--------+------+-----------+\n",
      "\n"
     ]
    },
    {
     "name": "stderr",
     "output_type": "stream",
     "text": [
      "                                                                                \r"
     ]
    }
   ],
   "source": [
    "foo.show()"
   ]
  },
  {
   "attachments": {},
   "cell_type": "markdown",
   "metadata": {},
   "source": [
    "#### Unions"
   ]
  },
  {
   "cell_type": "code",
   "execution_count": 10,
   "metadata": {},
   "outputs": [],
   "source": [
    "bar = delays.union(foo)\n",
    "bar.createOrReplaceTempView(\"bar\")"
   ]
  },
  {
   "cell_type": "code",
   "execution_count": 11,
   "metadata": {},
   "outputs": [
    {
     "name": "stdout",
     "output_type": "stream",
     "text": [
      "+-----------+-----+--------+------+-----------+\n",
      "|       date|delay|distance|origin|destination|\n",
      "+-----------+-----+--------+------+-----------+\n",
      "|01-01 07:10|   31|     590|   SEA|        SFO|\n",
      "|01-01 09:55|  104|     590|   SEA|        SFO|\n",
      "|01-01 07:30|    5|     590|   SEA|        SFO|\n",
      "|01-01 07:10|   31|     590|   SEA|        SFO|\n",
      "|01-01 09:55|  104|     590|   SEA|        SFO|\n",
      "|01-01 07:30|    5|     590|   SEA|        SFO|\n",
      "+-----------+-----+--------+------+-----------+\n",
      "\n"
     ]
    }
   ],
   "source": [
    "spark.sql(\"\"\"\n",
    "    SELECT *\n",
    "        FROM bar\n",
    "    WHERE origin = 'SEA'\n",
    "        AND destination = 'SFO'\n",
    "        AND date LIKE '01-01 0%'\n",
    "        AND delay > 0\n",
    "\"\"\").show()"
   ]
  },
  {
   "attachments": {},
   "cell_type": "markdown",
   "metadata": {},
   "source": [
    "#### Joins"
   ]
  },
  {
   "cell_type": "code",
   "execution_count": 12,
   "metadata": {},
   "outputs": [
    {
     "name": "stdout",
     "output_type": "stream",
     "text": [
      "+-------+-----+-----------+-----+--------+-----------+\n",
      "|   City|State|       date|delay|distance|destination|\n",
      "+-------+-----+-----------+-----+--------+-----------+\n",
      "|Seattle|   WA|01-01 07:10|   31|     590|        SFO|\n",
      "|Seattle|   WA|01-01 09:55|  104|     590|        SFO|\n",
      "|Seattle|   WA|01-01 07:30|    5|     590|        SFO|\n",
      "+-------+-----+-----------+-----+--------+-----------+\n",
      "\n",
      "+-------+-----+-----------+-----+--------+-----------+\n",
      "|   City|State|       date|delay|distance|destination|\n",
      "+-------+-----+-----------+-----+--------+-----------+\n",
      "|Seattle|   WA|01-01 07:10|   31|     590|        SFO|\n",
      "|Seattle|   WA|01-01 09:55|  104|     590|        SFO|\n",
      "|Seattle|   WA|01-01 07:30|    5|     590|        SFO|\n",
      "+-------+-----+-----------+-----+--------+-----------+\n",
      "\n"
     ]
    }
   ],
   "source": [
    "foo.join(\n",
    "    airports,\n",
    "    airports.IATA == foo.origin\n",
    ").select(\"City\", \"State\", \"date\", \"delay\", \"distance\", \"destination\").show()\n",
    "\n",
    "spark.sql(\"\"\"\n",
    "    SELECT a.City, a.State, f.date, f.delay, f.distance, f.destination\n",
    "        FROM foo f\n",
    "        JOIN airports_na a\n",
    "            ON a.IATA = f.origin\n",
    "\"\"\").show()"
   ]
  },
  {
   "attachments": {},
   "cell_type": "markdown",
   "metadata": {},
   "source": [
    "#### Windowing"
   ]
  },
  {
   "cell_type": "code",
   "execution_count": 13,
   "metadata": {},
   "outputs": [
    {
     "name": "stderr",
     "output_type": "stream",
     "text": [
      "[Stage 15:==============>                                           (1 + 3) / 4]\r"
     ]
    },
    {
     "name": "stdout",
     "output_type": "stream",
     "text": [
      "+------+-----------+-----------+\n",
      "|origin|destination|TotalDelays|\n",
      "+------+-----------+-----------+\n",
      "|   JFK|        ORD|       5608|\n",
      "|   JFK|        SFO|      35619|\n",
      "|   JFK|        DEN|       4315|\n",
      "|   JFK|        ATL|      12141|\n",
      "|   JFK|        SEA|       7856|\n",
      "|   JFK|        LAX|      35755|\n",
      "|   SEA|        LAX|       9359|\n",
      "|   SFO|        ORD|      27412|\n",
      "|   SFO|        DEN|      18688|\n",
      "|   SFO|        SEA|      17080|\n",
      "|   SEA|        SFO|      22293|\n",
      "|   SFO|        ATL|       5091|\n",
      "|   SEA|        DEN|      13645|\n",
      "|   SEA|        ATL|       4535|\n",
      "|   SEA|        ORD|      10041|\n",
      "|   SFO|        JFK|      24100|\n",
      "|   SFO|        LAX|      40798|\n",
      "|   SEA|        JFK|       4667|\n",
      "+------+-----------+-----------+\n",
      "\n"
     ]
    },
    {
     "name": "stderr",
     "output_type": "stream",
     "text": [
      "                                                                                \r"
     ]
    }
   ],
   "source": [
    "dDelayWindow = spark.sql(\"\"\"\n",
    "    SELECT origin, destination, sum(delay) as TotalDelays\n",
    "        FROM departureDelays\n",
    "    WHERE origin IN ('SEA', 'SFO', 'JFK')\n",
    "        AND destination IN ('SEA', 'SFO', 'JFK', 'DEN', 'ORD', 'LAX', 'ATL')\n",
    "    GROUP BY origin, destination\n",
    "\"\"\")\n",
    "\n",
    "dDelayWindow.show()\n",
    "\n",
    "dDelayWindow.createOrReplaceTempView(\"departureDelaysWindow\")"
   ]
  },
  {
   "cell_type": "code",
   "execution_count": 14,
   "metadata": {},
   "outputs": [
    {
     "name": "stdout",
     "output_type": "stream",
     "text": [
      "+------+-----------+-----------+----+\n",
      "|origin|destination|TotalDelays|rank|\n",
      "+------+-----------+-----------+----+\n",
      "|   JFK|        LAX|      35755|   1|\n",
      "|   JFK|        SFO|      35619|   2|\n",
      "|   JFK|        ATL|      12141|   3|\n",
      "|   SEA|        SFO|      22293|   1|\n",
      "|   SEA|        DEN|      13645|   2|\n",
      "|   SEA|        ORD|      10041|   3|\n",
      "|   SFO|        LAX|      40798|   1|\n",
      "|   SFO|        ORD|      27412|   2|\n",
      "|   SFO|        JFK|      24100|   3|\n",
      "+------+-----------+-----------+----+\n",
      "\n"
     ]
    }
   ],
   "source": [
    "spark.sql(\"\"\"\n",
    "    SELECT origin, destination, TotalDelays, rank\n",
    "        FROM (\n",
    "            SELECT origin, destination, TotalDelays, dense_rank()\n",
    "                OVER (PARTITION BY origin ORDER BY TotalDelays DESC) as rank\n",
    "                FROM departureDelaysWindow\n",
    "        ) t\n",
    "    WHERE rank <= 3\n",
    "\"\"\").show()"
   ]
  },
  {
   "attachments": {},
   "cell_type": "markdown",
   "metadata": {},
   "source": [
    "#### Modifications"
   ]
  },
  {
   "cell_type": "code",
   "execution_count": 15,
   "metadata": {},
   "outputs": [
    {
     "name": "stdout",
     "output_type": "stream",
     "text": [
      "+-----------+-----+--------+------+-----------+\n",
      "|       date|delay|distance|origin|destination|\n",
      "+-----------+-----+--------+------+-----------+\n",
      "|01-01 07:10|   31|     590|   SEA|        SFO|\n",
      "|01-01 09:55|  104|     590|   SEA|        SFO|\n",
      "|01-01 07:30|    5|     590|   SEA|        SFO|\n",
      "+-----------+-----+--------+------+-----------+\n",
      "\n"
     ]
    }
   ],
   "source": [
    "foo.show()"
   ]
  },
  {
   "cell_type": "code",
   "execution_count": 16,
   "metadata": {},
   "outputs": [
    {
     "name": "stdout",
     "output_type": "stream",
     "text": [
      "+-----------+-----+--------+------+-----------+-------+\n",
      "|       date|delay|distance|origin|destination| status|\n",
      "+-----------+-----+--------+------+-----------+-------+\n",
      "|01-01 07:10|   31|     590|   SEA|        SFO|Delayed|\n",
      "|01-01 09:55|  104|     590|   SEA|        SFO|Delayed|\n",
      "|01-01 07:30|    5|     590|   SEA|        SFO|On-time|\n",
      "+-----------+-----+--------+------+-----------+-------+\n",
      "\n"
     ]
    }
   ],
   "source": [
    "foo2 = (foo.withColumn(\n",
    "    \"status\",\n",
    "    expr(\"CASE WHEN delay <= 10 THEN 'On-time' ELSE 'Delayed' END\")\n",
    "))\n",
    "foo2.show()"
   ]
  },
  {
   "cell_type": "code",
   "execution_count": 17,
   "metadata": {},
   "outputs": [
    {
     "name": "stdout",
     "output_type": "stream",
     "text": [
      "+-----------+--------+------+-----------+-------+\n",
      "|       date|distance|origin|destination| status|\n",
      "+-----------+--------+------+-----------+-------+\n",
      "|01-01 07:10|     590|   SEA|        SFO|Delayed|\n",
      "|01-01 09:55|     590|   SEA|        SFO|Delayed|\n",
      "|01-01 07:30|     590|   SEA|        SFO|On-time|\n",
      "+-----------+--------+------+-----------+-------+\n",
      "\n"
     ]
    }
   ],
   "source": [
    "foo3 = foo2.drop(\"delay\")\n",
    "foo3.show()\n"
   ]
  },
  {
   "cell_type": "code",
   "execution_count": 18,
   "metadata": {},
   "outputs": [
    {
     "name": "stdout",
     "output_type": "stream",
     "text": [
      "+-----------+--------+------+-----------+-------------+\n",
      "|       date|distance|origin|destination|flight_status|\n",
      "+-----------+--------+------+-----------+-------------+\n",
      "|01-01 07:10|     590|   SEA|        SFO|      Delayed|\n",
      "|01-01 09:55|     590|   SEA|        SFO|      Delayed|\n",
      "|01-01 07:30|     590|   SEA|        SFO|      On-time|\n",
      "+-----------+--------+------+-----------+-------------+\n",
      "\n"
     ]
    }
   ],
   "source": [
    "foo4 = foo3.withColumnRenamed(\"status\", \"flight_status\")\n",
    "foo4.show()"
   ]
  },
  {
   "attachments": {},
   "cell_type": "markdown",
   "metadata": {},
   "source": [
    "#### Pivoting"
   ]
  },
  {
   "cell_type": "code",
   "execution_count": 19,
   "metadata": {},
   "outputs": [
    {
     "name": "stderr",
     "output_type": "stream",
     "text": [
      "[Stage 32:>                                                         (0 + 4) / 4]\r"
     ]
    },
    {
     "name": "stdout",
     "output_type": "stream",
     "text": [
      "+-----------+------------+------------+------------+------------+\n",
      "|destination|JAN_AvgDelay|JAN_MaxDelay|FEB_AvgDelay|FEB_MaxDelay|\n",
      "+-----------+------------+------------+------------+------------+\n",
      "|        ABQ|       19.86|         316|       11.42|          69|\n",
      "|        ANC|        4.44|         149|        7.90|         141|\n",
      "|        ATL|       11.98|         397|        7.73|         145|\n",
      "|        AUS|        3.48|          50|       -0.21|          18|\n",
      "|        BOS|        7.84|         110|       14.58|         152|\n",
      "|        BUR|       -2.03|          56|       -1.89|          78|\n",
      "|        CLE|       16.00|          27|        null|        null|\n",
      "|        CLT|        2.53|          41|       12.96|         228|\n",
      "|        COS|        5.32|          82|       12.18|         203|\n",
      "|        CVG|       -0.50|           4|        null|        null|\n",
      "|        DCA|       -1.15|          50|        0.07|          34|\n",
      "|        DEN|       13.13|         425|       12.95|         625|\n",
      "|        DFW|        7.95|         247|       12.57|         356|\n",
      "|        DTW|        9.18|         107|        3.47|          77|\n",
      "|        EWR|        9.63|         236|        5.20|         212|\n",
      "|        FAI|        1.84|         160|        4.21|          60|\n",
      "|        FAT|        1.36|         119|        5.22|         232|\n",
      "|        FLL|        2.94|          54|        3.50|          40|\n",
      "|        GEG|        2.28|          63|        2.87|          60|\n",
      "|        HDN|       -0.44|          27|       -6.50|           0|\n",
      "+-----------+------------+------------+------------+------------+\n",
      "only showing top 20 rows\n",
      "\n"
     ]
    },
    {
     "name": "stderr",
     "output_type": "stream",
     "text": [
      "                                                                                \r"
     ]
    }
   ],
   "source": [
    "spark.sql(\"\"\"\n",
    "SELECT * FROM (\n",
    "    SELECT destination, CAST(SUBSTRING(date, 0, 2) AS int) AS month, delay\n",
    "        FROM departureDelays WHERE origin = 'SEA'\n",
    ")\n",
    "PIVOT (\n",
    "    CAST(AVG(delay) AS DECIMAL(4, 2)) AS AvgDelay, MAX(delay) AS MaxDelay\n",
    "    FOR month IN (1 JAN, 2 FEB)\n",
    ")\n",
    "ORDER BY destination\n",
    "\"\"\").show()"
   ]
  }
 ],
 "metadata": {
  "kernelspec": {
   "display_name": "Python 3",
   "language": "python",
   "name": "python3"
  },
  "language_info": {
   "codemirror_mode": {
    "name": "ipython",
    "version": 3
   },
   "file_extension": ".py",
   "mimetype": "text/x-python",
   "name": "python",
   "nbconvert_exporter": "python",
   "pygments_lexer": "ipython3",
   "version": "3.10.6"
  },
  "orig_nbformat": 4
 },
 "nbformat": 4,
 "nbformat_minor": 2
}
