{
 "cells": [
  {
   "cell_type": "code",
   "execution_count": 1,
   "metadata": {},
   "outputs": [],
   "source": [
    "from pyspark.sql import SparkSession"
   ]
  },
  {
   "cell_type": "code",
   "execution_count": 2,
   "metadata": {},
   "outputs": [
    {
     "name": "stdout",
     "output_type": "stream",
     "text": [
      "23/05/09 15:00:24 WARN Utils: Your hostname, wedivv-H110M-S2V resolves to a loopback address: 127.0.1.1; using 192.168.1.44 instead (on interface wlp5s0)\n",
      "23/05/09 15:00:24 WARN Utils: Set SPARK_LOCAL_IP if you need to bind to another address\n"
     ]
    },
    {
     "name": "stderr",
     "output_type": "stream",
     "text": [
      "Setting default log level to \"WARN\".\n",
      "To adjust logging level use sc.setLogLevel(newLevel). For SparkR, use setLogLevel(newLevel).\n"
     ]
    },
    {
     "name": "stdout",
     "output_type": "stream",
     "text": [
      "23/05/09 15:00:25 WARN NativeCodeLoader: Unable to load native-hadoop library for your platform... using builtin-java classes where applicable\n",
      "23/05/09 15:00:26 WARN Utils: Service 'SparkUI' could not bind on port 4040. Attempting port 4041.\n"
     ]
    }
   ],
   "source": [
    "spark = (SparkSession\n",
    "        .builder\n",
    "        .appName(\"Expr\")\n",
    "        .getOrCreate()\n",
    ")"
   ]
  },
  {
   "cell_type": "code",
   "execution_count": 3,
   "metadata": {},
   "outputs": [],
   "source": [
    "from pyspark.sql.types import *\n",
    "\n",
    "schema = StructType([\n",
    "    StructField(\"id\", IntegerType(), True),\n",
    "    StructField(\"first_name\", StringType(), True),\n",
    "    StructField(\"last_name\", StringType(), True),\n",
    "    StructField(\"url\", StringType(), True),\n",
    "    StructField(\"published_date\", DateType(), True),\n",
    "    StructField(\"hits\", IntegerType(), True),\n",
    "    StructField(\"campaigns\", ArrayType(StringType()), True)\n",
    "])"
   ]
  },
  {
   "cell_type": "code",
   "execution_count": 4,
   "metadata": {},
   "outputs": [
    {
     "name": "stdout",
     "output_type": "stream",
     "text": [
      "+---+----------+---------+----------------------------------+--------------+-----+---------------------------+\n",
      "|id |first_name|last_name|url                               |published_date|hits |campaigns                  |\n",
      "+---+----------+---------+----------------------------------+--------------+-----+---------------------------+\n",
      "|1  |John      |Doe      |https://tinyurl.com/john-doe      |2022-01-01    |10000|[google, twitter]          |\n",
      "|2  |Jane      |Doe      |https://tinyurl.com/jane-doe      |2022-01-02    |20000|[google, facebook]         |\n",
      "|3  |Bob       |Smith    |https://tinyurl.com/bob-smith     |2022-01-03    |15000|[twitter, linkedin]        |\n",
      "|4  |Alice     |Johnson  |https://tinyurl.com/alice-johnson |2022-01-04    |12000|[facebook]                 |\n",
      "|5  |Charlie   |Garcia   |https://tinyurl.com/charlie-garcia|2022-01-05    |18000|[google, twitter, linkedin]|\n",
      "+---+----------+---------+----------------------------------+--------------+-----+---------------------------+\n",
      "\n"
     ]
    }
   ],
   "source": [
    "blogsDF = spark.read.schema(schema).option(\"multiline\",\"true\").json(\"./data/2-BlogData.json\")\n",
    "blogsDF.show(truncate=False)"
   ]
  },
  {
   "cell_type": "code",
   "execution_count": 5,
   "metadata": {},
   "outputs": [],
   "source": [
    "from pyspark.sql.functions import *"
   ]
  },
  {
   "attachments": {},
   "cell_type": "markdown",
   "metadata": {},
   "source": [
    "full name and it length"
   ]
  },
  {
   "cell_type": "code",
   "execution_count": 6,
   "metadata": {},
   "outputs": [
    {
     "name": "stdout",
     "output_type": "stream",
     "text": [
      "+--------------+-----------+\n",
      "|     full_name|name_length|\n",
      "+--------------+-----------+\n",
      "|      John Doe|          8|\n",
      "|      Jane Doe|          8|\n",
      "|     Bob Smith|          9|\n",
      "| Alice Johnson|         13|\n",
      "|Charlie Garcia|         14|\n",
      "+--------------+-----------+\n",
      "\n"
     ]
    }
   ],
   "source": [
    "\n",
    "blogsDF.select(concat_ws(\" \", blogsDF[\"first_name\"], blogsDF[\"last_name\"]).alias(\"full_name\"), length(concat_ws(\" \", blogsDF[\"first_name\"], blogsDF[\"last_name\"])).alias(\"name_length\")).show()\n"
   ]
  },
  {
   "cell_type": "code",
   "execution_count": 7,
   "metadata": {},
   "outputs": [
    {
     "name": "stdout",
     "output_type": "stream",
     "text": [
      "+-----------------+\n",
      "|        AuthorsID|\n",
      "+-----------------+\n",
      "|      John-1Doe97|\n",
      "|      Jane-2Doe63|\n",
      "|     Bob-3Smith15|\n",
      "| Alice-4Johnson86|\n",
      "|Charlie-5Garcia95|\n",
      "+-----------------+\n",
      "\n"
     ]
    }
   ],
   "source": [
    "(blogsDF\n",
    "    .withColumn(\"AuthorsID\", \n",
    "                concat(\n",
    "                    col(\"first_name\"),\n",
    "                    lit(\"-\"),\n",
    "                    col(\"id\"),\n",
    "                    col(\"last_name\"),\n",
    "                    expr(\"CAST(FLOOR(RAND() * (100 - LENGTH(first_name))) AS INT) + LENGTH(first_name)\"),\n",
    "\n",
    "                )\n",
    "    )\n",
    "    .select(\"AuthorsID\")\n",
    "    .show()\n",
    ")\n"
   ]
  },
  {
   "attachments": {},
   "cell_type": "markdown",
   "metadata": {},
   "source": [
    "col"
   ]
  },
  {
   "cell_type": "code",
   "execution_count": 8,
   "metadata": {},
   "outputs": [
    {
     "name": "stdout",
     "output_type": "stream",
     "text": [
      "+-----------+\n",
      "|nerfed_hits|\n",
      "+-----------+\n",
      "|     8700.0|\n",
      "|    17400.0|\n",
      "|    13050.0|\n",
      "|    10440.0|\n",
      "|    15660.0|\n",
      "+-----------+\n",
      "\n"
     ]
    }
   ],
   "source": [
    "blogsDF.select((col(\"HITS\") * 0.87).alias(\"nerfed_hits\")).show(5)"
   ]
  },
  {
   "attachments": {},
   "cell_type": "markdown",
   "metadata": {},
   "source": [
    "expression"
   ]
  },
  {
   "cell_type": "code",
   "execution_count": 9,
   "metadata": {},
   "outputs": [
    {
     "name": "stdout",
     "output_type": "stream",
     "text": [
      "+-----------+\n",
      "|nerfed_hits|\n",
      "+-----------+\n",
      "|    8700.00|\n",
      "|   17400.00|\n",
      "|   13050.00|\n",
      "|   10440.00|\n",
      "|   15660.00|\n",
      "+-----------+\n",
      "\n"
     ]
    }
   ],
   "source": [
    "blogsDF.select(expr(\"HITS * 0.87\").alias(\"nerfed_hits\")).show(5)"
   ]
  },
  {
   "cell_type": "code",
   "execution_count": 10,
   "metadata": {},
   "outputs": [
    {
     "name": "stdout",
     "output_type": "stream",
     "text": [
      "+---+----------+---------+--------------------+--------------+-----+--------------------+-----------+\n",
      "| id|first_name|last_name|                 url|published_date| hits|           campaigns|Big Hitters|\n",
      "+---+----------+---------+--------------------+--------------+-----+--------------------+-----------+\n",
      "|  1|      John|      Doe|https://tinyurl.c...|    2022-01-01|10000|   [google, twitter]|      false|\n",
      "|  2|      Jane|      Doe|https://tinyurl.c...|    2022-01-02|20000|  [google, facebook]|       true|\n",
      "|  3|       Bob|    Smith|https://tinyurl.c...|    2022-01-03|15000| [twitter, linkedin]|       true|\n",
      "|  4|     Alice|  Johnson|https://tinyurl.c...|    2022-01-04|12000|          [facebook]|      false|\n",
      "|  5|   Charlie|   Garcia|https://tinyurl.c...|    2022-01-05|18000|[google, twitter,...|       true|\n",
      "+---+----------+---------+--------------------+--------------+-----+--------------------+-----------+\n",
      "\n"
     ]
    }
   ],
   "source": [
    "blogsDF.withColumn(\"Big Hitters\", (expr(\"Hits > 13000\"))).show()"
   ]
  },
  {
   "cell_type": "code",
   "execution_count": 11,
   "metadata": {},
   "outputs": [
    {
     "name": "stdout",
     "output_type": "stream",
     "text": [
      "+-----+\n",
      "| Hits|\n",
      "+-----+\n",
      "|10000|\n",
      "|20000|\n",
      "+-----+\n",
      "only showing top 2 rows\n",
      "\n",
      "+-----+\n",
      "| Hits|\n",
      "+-----+\n",
      "|10000|\n",
      "|20000|\n",
      "+-----+\n",
      "only showing top 2 rows\n",
      "\n",
      "+-----+\n",
      "| Hits|\n",
      "+-----+\n",
      "|10000|\n",
      "|20000|\n",
      "+-----+\n",
      "only showing top 2 rows\n",
      "\n"
     ]
    }
   ],
   "source": [
    "blogsDF.select(expr(\"Hits\")).show(2)\n",
    "blogsDF.select(col(\"Hits\")).show(2)\n",
    "blogsDF.select(\"Hits\").show(2)"
   ]
  },
  {
   "cell_type": "code",
   "execution_count": 19,
   "metadata": {},
   "outputs": [
    {
     "name": "stdout",
     "output_type": "stream",
     "text": [
      "+---+----------+---------+--------------------+--------------+-----+--------------------+\n",
      "| id|first_name|last_name|                 url|published_date| hits|           campaigns|\n",
      "+---+----------+---------+--------------------+--------------+-----+--------------------+\n",
      "|  2|      Jane|      Doe|https://tinyurl.c...|    2022-01-02|20000|  [google, facebook]|\n",
      "|  5|   Charlie|   Garcia|https://tinyurl.c...|    2022-01-05|18000|[google, twitter,...|\n",
      "|  3|       Bob|    Smith|https://tinyurl.c...|    2022-01-03|15000| [twitter, linkedin]|\n",
      "|  4|     Alice|  Johnson|https://tinyurl.c...|    2022-01-04|12000|          [facebook]|\n",
      "|  1|      John|      Doe|https://tinyurl.c...|    2022-01-01|10000|   [google, twitter]|\n",
      "+---+----------+---------+--------------------+--------------+-----+--------------------+\n",
      "\n"
     ]
    }
   ],
   "source": [
    "blogsDF.sort(desc(\"hits\")).show()"
   ]
  }
 ],
 "metadata": {
  "kernelspec": {
   "display_name": "Python 3",
   "language": "python",
   "name": "python3"
  },
  "language_info": {
   "codemirror_mode": {
    "name": "ipython",
    "version": 3
   },
   "file_extension": ".py",
   "mimetype": "text/x-python",
   "name": "python",
   "nbconvert_exporter": "python",
   "pygments_lexer": "ipython3",
   "version": "3.10.6"
  },
  "orig_nbformat": 4
 },
 "nbformat": 4,
 "nbformat_minor": 2
}
