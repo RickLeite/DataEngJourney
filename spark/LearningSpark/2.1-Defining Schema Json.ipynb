{
 "cells": [
  {
   "cell_type": "code",
   "execution_count": 1,
   "metadata": {},
   "outputs": [],
   "source": [
    "from pyspark.sql import SparkSession"
   ]
  },
  {
   "cell_type": "code",
   "execution_count": 2,
   "metadata": {},
   "outputs": [
    {
     "name": "stdout",
     "output_type": "stream",
     "text": [
      "23/05/08 14:47:33 WARN Utils: Your hostname, wedivv-H110M-S2V resolves to a loopback address: 127.0.1.1; using 192.168.1.44 instead (on interface wlp5s0)\n",
      "23/05/08 14:47:33 WARN Utils: Set SPARK_LOCAL_IP if you need to bind to another address\n"
     ]
    },
    {
     "name": "stderr",
     "output_type": "stream",
     "text": [
      "Setting default log level to \"WARN\".\n",
      "To adjust logging level use sc.setLogLevel(newLevel). For SparkR, use setLogLevel(newLevel).\n"
     ]
    },
    {
     "name": "stdout",
     "output_type": "stream",
     "text": [
      "23/05/08 14:47:33 WARN NativeCodeLoader: Unable to load native-hadoop library for your platform... using builtin-java classes where applicable\n"
     ]
    }
   ],
   "source": [
    "spark = (SparkSession\n",
    "        .builder\n",
    "        .appName(\"Defining Schema in Json data\")\n",
    "        .getOrCreate()\n",
    ")"
   ]
  },
  {
   "cell_type": "code",
   "execution_count": 10,
   "metadata": {},
   "outputs": [],
   "source": [
    "from pyspark.sql.types import *\n",
    "\n",
    "schema = StructType([\n",
    "    StructField(\"id\", IntegerType(), True),\n",
    "    StructField(\"first_name\", StringType(), True),\n",
    "    StructField(\"last_name\", StringType(), True),\n",
    "    StructField(\"url\", StringType(), True),\n",
    "    StructField(\"published_date\", DateType(), True),\n",
    "    StructField(\"hits\", IntegerType(), True),\n",
    "    StructField(\"campaigns\", ArrayType(StringType()), True)\n",
    "])"
   ]
  },
  {
   "attachments": {},
   "cell_type": "markdown",
   "metadata": {},
   "source": [
    "multiline json"
   ]
  },
  {
   "cell_type": "code",
   "execution_count": 38,
   "metadata": {},
   "outputs": [
    {
     "name": "stdout",
     "output_type": "stream",
     "text": [
      "+---+----------+---------+----------------------------------+--------------+-----+---------------------------+\n",
      "|id |first_name|last_name|url                               |published_date|hits |campaigns                  |\n",
      "+---+----------+---------+----------------------------------+--------------+-----+---------------------------+\n",
      "|1  |John      |Doe      |https://tinyurl.com/john-doe      |2022-01-01    |10000|[google, twitter]          |\n",
      "|2  |Jane      |Doe      |https://tinyurl.com/jane-doe      |2022-01-02    |20000|[google, facebook]         |\n",
      "|3  |Bob       |Smith    |https://tinyurl.com/bob-smith     |2022-01-03    |15000|[twitter, linkedin]        |\n",
      "|4  |Alice     |Johnson  |https://tinyurl.com/alice-johnson |2022-01-04    |12000|[facebook]                 |\n",
      "|5  |Charlie   |Garcia   |https://tinyurl.com/charlie-garcia|2022-01-05    |18000|[google, twitter, linkedin]|\n",
      "+---+----------+---------+----------------------------------+--------------+-----+---------------------------+\n",
      "\n"
     ]
    }
   ],
   "source": [
    "df = spark.read.schema(schema).option(\"multiline\",\"true\").json(\"./data/2-BlogData.json\")\n",
    "df.show(truncate=False)"
   ]
  },
  {
   "cell_type": "code",
   "execution_count": 39,
   "metadata": {},
   "outputs": [
    {
     "name": "stdout",
     "output_type": "stream",
     "text": [
      "root\n",
      " |-- id: integer (nullable = true)\n",
      " |-- first_name: string (nullable = true)\n",
      " |-- last_name: string (nullable = true)\n",
      " |-- url: string (nullable = true)\n",
      " |-- published_date: date (nullable = true)\n",
      " |-- hits: integer (nullable = true)\n",
      " |-- campaigns: array (nullable = true)\n",
      " |    |-- element: string (containsNull = true)\n",
      "\n"
     ]
    }
   ],
   "source": [
    "df.printSchema()"
   ]
  },
  {
   "cell_type": "code",
   "execution_count": 41,
   "metadata": {},
   "outputs": [
    {
     "data": {
      "text/plain": [
       "StructType([StructField('id', IntegerType(), True), StructField('first_name', StringType(), True), StructField('last_name', StringType(), True), StructField('url', StringType(), True), StructField('published_date', DateType(), True), StructField('hits', IntegerType(), True), StructField('campaigns', ArrayType(StringType(), True), True)])"
      ]
     },
     "execution_count": 41,
     "metadata": {},
     "output_type": "execute_result"
    }
   ],
   "source": [
    "df.schema"
   ]
  }
 ],
 "metadata": {
  "kernelspec": {
   "display_name": "Python 3",
   "language": "python",
   "name": "python3"
  },
  "language_info": {
   "codemirror_mode": {
    "name": "ipython",
    "version": 3
   },
   "file_extension": ".py",
   "mimetype": "text/x-python",
   "name": "python",
   "nbconvert_exporter": "python",
   "pygments_lexer": "ipython3",
   "version": "3.10.6"
  },
  "orig_nbformat": 4
 },
 "nbformat": 4,
 "nbformat_minor": 2
}
